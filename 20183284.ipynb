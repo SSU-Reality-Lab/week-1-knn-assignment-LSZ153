{
  "cells": [
    {
      "cell_type": "markdown",
      "metadata": {},
      "source": [
        "# k-Nearest Neighbor (kNN) on CIFAR-10\n",
        "\n",
        "이 노트북은 과제 요구사항에 맞게 `KNearestNeighbor` 클래스를 사용하여 CIFAR-10 데이터셋 분류를 수행합니다.\n",
        "\n",
        "## 체크리스트\n",
        "- [x] Conda 환경: `ssu_knn` (`python=3.10`)\n",
        "- [x] 라이브러리: `numpy`, `opencv-python`, `Pillow`, `matplotlib`\n",
        "- [x] `k_nn.py` 구현 (두 루프 / 한 루프 / 무루프 거리 계산)\n",
        "- [x] k 값 스윕, 검증셋으로 최적 k 선택\n",
        "- [x] 테스트셋 정확도 측정\n",
        "- [x] 거리계산 방식별 속도 비교\n"
      ]
    },
    {
      "cell_type": "code",
      "execution_count": null,
      "metadata": {},
      "outputs": [],
      "source": [
        "# 환경 점검\n",
        "import sys, os, time, pickle\n",
        "import numpy as np\n",
        "import matplotlib.pyplot as plt\n",
        "from pathlib import Path\n",
        "\n",
        "from k_nn import KNearestNeighbor, accuracy, train_val_split\n",
        "\n",
        "print(sys.version)\n",
        "print('numpy', np.__version__)"
      ]
    },
    {
      "cell_type": "markdown",
      "metadata": {},
      "source": [
        "## CIFAR-10 로드\n",
        "아래 코드는 **CIFAR-10 python 버전** 디렉토리(`cifar-10-batches-py/`)가 로컬에 있는 경우를 가정합니다. \n",
        "과제 저장소에서 제공하는 유틸이 있다면 그 함수를 사용해도 됩니다.\n",
        "\n",
        "- 학습: `data_batch_1`~`data_batch_5`\n",
        "- 테스트: `test_batch`\n"
      ]
    },
    {
      "cell_type": "code",
      "execution_count": null,
      "metadata": {},
      "outputs": [],
      "source": [
        "def load_cifar10(root: str):\n",
        "    root = Path(root)\n",
        "    def _load_batch(p):\n",
        "        with open(p, 'rb') as f:\n",
        "            d = pickle.load(f, encoding='latin1')\n",
        "        data = d['data']  # (N, 3072) uint8\n",
        "        labels = d['labels']  # list of ints\n",
        "        return np.array(data, dtype=np.uint8), np.array(labels, dtype=np.int64)\n",
        "\n",
        "    X_list, y_list = [], []\n",
        "    for i in range(1, 6):\n",
        "        X_i, y_i = _load_batch(root / f'data_batch_{i}')\n",
        "        X_list.append(X_i); y_list.append(y_i)\n",
        "    X_train = np.concatenate(X_list, axis=0)\n",
        "    y_train = np.concatenate(y_list, axis=0)\n",
        "    X_test, y_test = _load_batch(root / 'test_batch')\n",
        "    return X_train, y_train, X_test, y_test\n",
        "\n",
        "DATA_DIR = 'cifar-10-batches-py'  # 필요 시 경로 수정\n",
        "if Path(DATA_DIR).exists():\n",
        "    Xtr_u8, ytr, Xte_u8, yte = load_cifar10(DATA_DIR)\n",
        "else:\n",
        "    # 경로가 없다면 데모용 난수 데이터 사용 (코드 확인용)\n",
        "    print('[WARN] CIFAR-10 경로를 찾을 수 없습니다. 데모 데이터를 사용합니다.')\n",
        "    Ntr, Nte, D = 2000, 400, 3072\n",
        "    rng = np.random.default_rng(0)\n",
        "    Xtr_u8 = rng.integers(0, 256, size=(Ntr, D), dtype=np.uint8)\n",
        "    ytr = rng.integers(0, 10, size=(Ntr,), dtype=np.int64)\n",
        "    Xte_u8 = rng.integers(0, 256, size=(Nte, D), dtype=np.uint8)\n",
        "    yte = rng.integers(0, 10, size=(Nte,), dtype=np.int64)\n",
        "\n",
        "print('Train:', Xtr_u8.shape, ytr.shape, 'Test:', Xte_u8.shape, yte.shape)"
      ]
    },
    {
      "cell_type": "markdown",
      "metadata": {},
      "source": [
        "## 전처리 & 분할\n",
        "- 벡터화: (N, 3072) 그대로 사용\n",
        "- 정규화(선택): 평균/표준편차 스케일링은 보통 kNN에 이득\n"
      ]
    },
    {
      "cell_type": "code",
      "execution_count": null,
      "metadata": {},
      "outputs": [],
      "source": [
        "Xtr = Xtr_u8.astype(np.float32)\n",
        "Xte = Xte_u8.astype(np.float32)\n",
        "mean = np.mean(Xtr, axis=0, keepdims=True)\n",
        "std = np.std(Xtr, axis=0, keepdims=True) + 1e-7\n",
        "Xtr = (Xtr - mean) / std\n",
        "Xte = (Xte - mean) / std\n",
        "\n",
        "X_train, y_train, X_val, y_val = train_val_split(Xtr, ytr, val_ratio=0.2, seed=42)\n",
        "print('Train:', X_train.shape, y_train.shape)\n",
        "print('Val   :', X_val.shape, y_val.shape)"
      ]
    },
    {
      "cell_type": "markdown",
      "metadata": {},
      "source": [
        "## kNN 학습 (메모라이즈)\n"
      ]
    },
    {
      "cell_type": "code",
      "execution_count": null,
      "metadata": {},
      "outputs": [],
      "source": [
        "knn = KNearestNeighbor()\n",
        "knn.train(X_train, y_train)"
      ]
    },
    {
      "cell_type": "markdown",
      "metadata": {},
      "source": [
        "## 거리 계산 방식 속도 비교\n",
        "⚠️ 전체 CIFAR-10(50k x 10k)은 오래 걸릴 수 있으니, 검증용으로 작은 서브샘플을 사용하세요.\n"
      ]
    },
    {
      "cell_type": "code",
      "execution_count": null,
      "metadata": {},
      "outputs": [],
      "source": [
        "def benchmark(num_loops, k=5, n_te=200):\n",
        "    X_sub = X_val[:n_te]\n",
        "    y_sub = y_val[:n_te]\n",
        "    t0 = time.time()\n",
        "    y_pred = knn.predict(X_sub, k=k, num_loops=num_loops)\n",
        "    dt = time.time() - t0\n",
        "    acc = accuracy(y_sub, y_pred)\n",
        "    return dt, acc\n",
        "\n",
        "results = {}\n",
        "for loops in [2, 1, 0]:\n",
        "    dt, acc = benchmark(loops, k=5)\n",
        "    results[loops] = (dt, acc)\n",
        "    print(f\"num_loops={loops} | time={dt:.3f}s | acc={acc:.4f}\")"
      ]
    },
    {
      "cell_type": "markdown",
      "metadata": {},
      "source": [
        "## k 값 스윕 (검증셋)\n"
      ]
    },
    {
      "cell_type": "code",
      "execution_count": null,
      "metadata": {},
      "outputs": [],
      "source": [
        "k_candidates = [1, 3, 5, 7, 9, 11, 13, 15]\n",
        "val_accs = []\n",
        "for k in k_candidates:\n",
        "    y_pred = knn.predict(X_val, k=k, num_loops=0)\n",
        "    acc = accuracy(y_val, y_pred)\n",
        "    val_accs.append(acc)\n",
        "    print(f\"k={k:2d} | val acc={acc:.4f}\")\n",
        "\n",
        "best_k = k_candidates[int(np.argmax(val_accs))]\n",
        "print('Best k:', best_k)"
      ]
    },
    {
      "cell_type": "markdown",
      "metadata": {},
      "source": [
        "### 시각화\n"
      ]
    },
    {
      "cell_type": "code",
      "execution_count": null,
      "metadata": {},
      "outputs": [],
      "source": [
        "plt.figure()\n",
        "plt.plot(k_candidates, val_accs, marker='o')\n",
        "plt.title('Validation Accuracy vs. k')\n",
        "plt.xlabel('k')\n",
        "plt.ylabel('Accuracy')\n",
        "plt.grid(True)\n",
        "plt.show()"
      ]
    },
    {
      "cell_type": "markdown",
      "metadata": {},
      "source": [
        "## 테스트셋 성능\n"
      ]
    },
    {
      "cell_type": "code",
      "execution_count": null,
      "metadata": {},
      "outputs": [],
      "source": [
        "knn_full = KNearestNeighbor()\n",
        "knn_full.train(Xtr, ytr)\n",
        "yte_pred = knn_full.predict(Xte, k=best_k, num_loops=0)\n",
        "test_acc = accuracy(yte, yte_pred)\n",
        "print('Test accuracy:', test_acc)\n",
        "\n",
        "os.makedirs('output', exist_ok=True)\n",
        "import json\n",
        "with open('output/val_results.json', 'w') as f:\n",
        "    json.dump({'k_candidates': k_candidates,\n",
        "               'val_accs': [float(a) for a in val_accs],\n",
        "               'best_k': int(best_k),\n",
        "               'test_acc': float(test_acc)}, f, indent=2)\n",
        "print('Saved: output/val_results.json')"
      ]
    },
    {
      "cell_type": "markdown",
      "metadata": {},
      "source": [
        "## 노트\n",
        "- 거리 계산 방식은 **정확도가 동일**해야 합니다 (동일한 거리 정의/전처리인 경우).\n",
        "- 속도는 보통 `no_loops` > `one_loop` > `two_loops` 순입니다.\n",
        "- 메모리 한계에 부딪히면, 검증/테스트 시 **배치 단위**로 예측하는 함수를 추가해도 됩니다.\n"
      ]
    }
  ],
  "metadata": {
    "kernelspec": {
      "display_name": "Python 3",
      "language": "python",
      "name": "python3"
    },
    "language_info": {
      "name": "python",
      "version": "3.10"
    }
  },
  "nbformat": 4,
  "nbformat_minor": 5
}